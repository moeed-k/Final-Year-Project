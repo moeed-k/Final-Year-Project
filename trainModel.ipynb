{
 "cells": [
  {
   "cell_type": "code",
   "execution_count": 5,
   "metadata": {
    "id": "igMyGnjE9hEp",
    "scrolled": true
   },
   "outputs": [],
   "source": [
    "import csv\n",
    "import pandas as pd\n",
    "import numpy as np\n",
    "from sklearn.utils import shuffle\n",
    "import tensorflow as tf\n",
    "from sklearn.model_selection import train_test_split\n",
    "\n",
    "RANDOM_SEED = 99"
   ]
  },
  {
   "cell_type": "markdown",
   "metadata": {
    "id": "t2HDvhIu9hEr"
   },
   "source": [
    "## Specify each path"
   ]
  },
  {
   "cell_type": "code",
   "execution_count": 6,
   "metadata": {
    "id": "9NvZP2Zn9hEy"
   },
   "outputs": [],
   "source": [
    "dataset = './dataset/dataset.csv'\n",
    "model_save_path = './gesture_classifier.hdf5'\n",
    "label_path = './dataset/labels.txt'"
   ]
  },
  {
   "cell_type": "markdown",
   "metadata": {
    "id": "s5oMH7x19hEz"
   },
   "source": [
    "# Set number of classes"
   ]
  },
  {
   "cell_type": "code",
   "execution_count": 7,
   "metadata": {
    "id": "du4kodXL9hEz"
   },
   "outputs": [
    {
     "name": "stdout",
     "output_type": "stream",
     "text": [
      "12\n"
     ]
    }
   ],
   "source": [
    "labels = []\n",
    "with open(label_path) as file:\n",
    "    for line in file:\n",
    "        labels.append(line.rstrip())\n",
    "NUM_CLASSES = len(labels)\n",
    "print(NUM_CLASSES)"
   ]
  },
  {
   "cell_type": "markdown",
   "metadata": {
    "id": "XjnL0uso9hEz"
   },
   "source": [
    "# Dataset reading"
   ]
  },
  {
   "cell_type": "code",
   "execution_count": 8,
   "metadata": {
    "id": "xQU7JTZ_9hE0"
   },
   "outputs": [],
   "source": [
    "y_dataset = df.iloc[: , -1:]\n",
    "X_dataset=df.iloc[: , :-1]\n",
    "X_train, X_test, y_train, y_test = train_test_split(X_dataset, y_dataset, train_size=0.75, random_state=RANDOM_SEED)"
   ]
  },
  {
   "cell_type": "markdown",
   "metadata": {
    "id": "mxK_lETT9hE0"
   },
   "source": [
    "# Model building"
   ]
  },
  {
   "cell_type": "code",
   "execution_count": 9,
   "metadata": {
    "id": "vHBmUf1t9hE1"
   },
   "outputs": [],
   "source": [
    "model = tf.keras.models.Sequential([\n",
    "    tf.keras.layers.Input((84, )),\n",
    "    tf.keras.layers.Dropout(0.2),\n",
    "    tf.keras.layers.Dense(40, activation='relu'),\n",
    "    tf.keras.layers.Dropout(0.4),\n",
    "    tf.keras.layers.Dense(20, activation='relu'),\n",
    "    tf.keras.layers.Dense(NUM_CLASSES, activation='softmax')\n",
    "])"
   ]
  },
  {
   "cell_type": "code",
   "execution_count": 10,
   "metadata": {
    "colab": {
     "base_uri": "https://localhost:8080/"
    },
    "id": "ypqky9tc9hE1",
    "outputId": "5db082bb-30e3-4110-bf63-a1ee777ecd46"
   },
   "outputs": [
    {
     "name": "stdout",
     "output_type": "stream",
     "text": [
      "Model: \"sequential\"\n",
      "_________________________________________________________________\n",
      " Layer (type)                Output Shape              Param #   \n",
      "=================================================================\n",
      " dropout (Dropout)           (None, 84)                0         \n",
      "                                                                 \n",
      " dense (Dense)               (None, 40)                3400      \n",
      "                                                                 \n",
      " dropout_1 (Dropout)         (None, 40)                0         \n",
      "                                                                 \n",
      " dense_1 (Dense)             (None, 20)                820       \n",
      "                                                                 \n",
      " dense_2 (Dense)             (None, 12)                252       \n",
      "                                                                 \n",
      "=================================================================\n",
      "Total params: 4,472\n",
      "Trainable params: 4,472\n",
      "Non-trainable params: 0\n",
      "_________________________________________________________________\n"
     ]
    }
   ],
   "source": [
    "model.summary()  # tf.keras.utils.plot_model(model, show_shapes=True)"
   ]
  },
  {
   "cell_type": "code",
   "execution_count": 11,
   "metadata": {
    "id": "c3Dac0M_9hE2"
   },
   "outputs": [],
   "source": [
    "# Model compilation\n",
    "model.compile(\n",
    "    optimizer='adam',\n",
    "    loss='sparse_categorical_crossentropy',\n",
    "    metrics=['accuracy']\n",
    ")"
   ]
  },
  {
   "cell_type": "markdown",
   "metadata": {
    "id": "7XI0j1Iu9hE2"
   },
   "source": [
    "# Model training"
   ]
  },
  {
   "cell_type": "code",
   "execution_count": 12,
   "metadata": {
    "colab": {
     "base_uri": "https://localhost:8080/"
    },
    "id": "WirBl-JE9hE3",
    "outputId": "71b30ca2-8294-4d9d-8aa2-800d90d399de",
    "scrolled": true
   },
   "outputs": [
    {
     "name": "stdout",
     "output_type": "stream",
     "text": [
      "Epoch 1/100\n",
      "64/64 [==============================] - 1s 4ms/step - loss: 2.1090 - accuracy: 0.2933 - val_loss: 1.4721 - val_accuracy: 0.5708\n",
      "Epoch 2/100\n",
      "64/64 [==============================] - 0s 2ms/step - loss: 1.2343 - accuracy: 0.5744 - val_loss: 0.8021 - val_accuracy: 0.9306\n",
      "Epoch 3/100\n",
      "64/64 [==============================] - 0s 2ms/step - loss: 0.7698 - accuracy: 0.7774 - val_loss: 0.4888 - val_accuracy: 0.9681\n",
      "Epoch 4/100\n",
      "64/64 [==============================] - 0s 2ms/step - loss: 0.5554 - accuracy: 0.8390 - val_loss: 0.3357 - val_accuracy: 0.9700\n",
      "Epoch 5/100\n",
      "64/64 [==============================] - 0s 2ms/step - loss: 0.4254 - accuracy: 0.8984 - val_loss: 0.2365 - val_accuracy: 0.9709\n",
      "Epoch 6/100\n",
      "64/64 [==============================] - 0s 2ms/step - loss: 0.3422 - accuracy: 0.9259 - val_loss: 0.1842 - val_accuracy: 0.9719\n",
      "Epoch 7/100\n",
      "64/64 [==============================] - 0s 2ms/step - loss: 0.2929 - accuracy: 0.9406 - val_loss: 0.1550 - val_accuracy: 0.9719\n",
      "Epoch 8/100\n",
      "64/64 [==============================] - 0s 2ms/step - loss: 0.2543 - accuracy: 0.9453 - val_loss: 0.1404 - val_accuracy: 0.9719\n",
      "Epoch 9/100\n",
      "64/64 [==============================] - 0s 2ms/step - loss: 0.2355 - accuracy: 0.9534 - val_loss: 0.1250 - val_accuracy: 0.9709\n",
      "Epoch 10/100\n",
      "64/64 [==============================] - 0s 2ms/step - loss: 0.2081 - accuracy: 0.9540 - val_loss: 0.1176 - val_accuracy: 0.9728\n",
      "Epoch 11/100\n",
      "64/64 [==============================] - 0s 2ms/step - loss: 0.1981 - accuracy: 0.9559 - val_loss: 0.1113 - val_accuracy: 0.9747\n",
      "Epoch 12/100\n",
      "64/64 [==============================] - 0s 2ms/step - loss: 0.1938 - accuracy: 0.9578 - val_loss: 0.1038 - val_accuracy: 0.9747\n",
      "Epoch 13/100\n",
      "64/64 [==============================] - 0s 2ms/step - loss: 0.1848 - accuracy: 0.9609 - val_loss: 0.0992 - val_accuracy: 0.9738\n",
      "Epoch 14/100\n",
      "64/64 [==============================] - 0s 2ms/step - loss: 0.1692 - accuracy: 0.9619 - val_loss: 0.0924 - val_accuracy: 0.9747\n",
      "Epoch 15/100\n",
      "64/64 [==============================] - 0s 2ms/step - loss: 0.1639 - accuracy: 0.9634 - val_loss: 0.0880 - val_accuracy: 0.9747\n",
      "Epoch 16/100\n",
      "64/64 [==============================] - 0s 2ms/step - loss: 0.1513 - accuracy: 0.9650 - val_loss: 0.0838 - val_accuracy: 0.9747\n",
      "Epoch 17/100\n",
      "64/64 [==============================] - 0s 2ms/step - loss: 0.1376 - accuracy: 0.9662 - val_loss: 0.0800 - val_accuracy: 0.9747\n",
      "Epoch 18/100\n",
      "64/64 [==============================] - 0s 2ms/step - loss: 0.1421 - accuracy: 0.9650 - val_loss: 0.0760 - val_accuracy: 0.9756\n",
      "Epoch 19/100\n",
      "64/64 [==============================] - 0s 2ms/step - loss: 0.1458 - accuracy: 0.9662 - val_loss: 0.0767 - val_accuracy: 0.9747\n",
      "Epoch 20/100\n",
      "64/64 [==============================] - 0s 2ms/step - loss: 0.1321 - accuracy: 0.9656 - val_loss: 0.0751 - val_accuracy: 0.9766\n",
      "Epoch 21/100\n",
      "64/64 [==============================] - 0s 2ms/step - loss: 0.1297 - accuracy: 0.9669 - val_loss: 0.0701 - val_accuracy: 0.9756\n",
      "Epoch 22/100\n",
      "64/64 [==============================] - 0s 2ms/step - loss: 0.1271 - accuracy: 0.9647 - val_loss: 0.0695 - val_accuracy: 0.9756\n",
      "Epoch 23/100\n",
      "64/64 [==============================] - 0s 2ms/step - loss: 0.1194 - accuracy: 0.9690 - val_loss: 0.0688 - val_accuracy: 0.9766\n",
      "Epoch 24/100\n",
      "64/64 [==============================] - 0s 2ms/step - loss: 0.1168 - accuracy: 0.9694 - val_loss: 0.0657 - val_accuracy: 0.9766\n",
      "Epoch 25/100\n",
      "64/64 [==============================] - 0s 2ms/step - loss: 0.1135 - accuracy: 0.9731 - val_loss: 0.0640 - val_accuracy: 0.9766\n",
      "Epoch 26/100\n",
      "64/64 [==============================] - 0s 2ms/step - loss: 0.1071 - accuracy: 0.9740 - val_loss: 0.0627 - val_accuracy: 0.9775\n",
      "Epoch 27/100\n",
      "64/64 [==============================] - 0s 2ms/step - loss: 0.1172 - accuracy: 0.9694 - val_loss: 0.0617 - val_accuracy: 0.9794\n",
      "Epoch 28/100\n",
      "64/64 [==============================] - 0s 2ms/step - loss: 0.1098 - accuracy: 0.9725 - val_loss: 0.0627 - val_accuracy: 0.9784\n",
      "Epoch 29/100\n",
      "64/64 [==============================] - 0s 2ms/step - loss: 0.1137 - accuracy: 0.9687 - val_loss: 0.0601 - val_accuracy: 0.9803\n",
      "Epoch 30/100\n",
      "64/64 [==============================] - 0s 2ms/step - loss: 0.1064 - accuracy: 0.9709 - val_loss: 0.0603 - val_accuracy: 0.9794\n",
      "Epoch 31/100\n",
      "64/64 [==============================] - 0s 2ms/step - loss: 0.1076 - accuracy: 0.9709 - val_loss: 0.0584 - val_accuracy: 0.9841\n",
      "Epoch 32/100\n",
      "64/64 [==============================] - 0s 2ms/step - loss: 0.0945 - accuracy: 0.9784 - val_loss: 0.0579 - val_accuracy: 0.9803\n",
      "Epoch 33/100\n",
      "64/64 [==============================] - 0s 2ms/step - loss: 0.0951 - accuracy: 0.9756 - val_loss: 0.0569 - val_accuracy: 0.9850\n",
      "Epoch 34/100\n",
      "64/64 [==============================] - 0s 2ms/step - loss: 0.1037 - accuracy: 0.9744 - val_loss: 0.0552 - val_accuracy: 0.9841\n",
      "Epoch 35/100\n",
      "64/64 [==============================] - 0s 2ms/step - loss: 0.0927 - accuracy: 0.9765 - val_loss: 0.0553 - val_accuracy: 0.9850\n",
      "Epoch 36/100\n",
      "64/64 [==============================] - 0s 2ms/step - loss: 0.1015 - accuracy: 0.9753 - val_loss: 0.0547 - val_accuracy: 0.9841\n",
      "Epoch 37/100\n",
      "64/64 [==============================] - 0s 2ms/step - loss: 0.0989 - accuracy: 0.9744 - val_loss: 0.0553 - val_accuracy: 0.9831\n",
      "Epoch 38/100\n",
      "64/64 [==============================] - 0s 2ms/step - loss: 0.0918 - accuracy: 0.9778 - val_loss: 0.0546 - val_accuracy: 0.9850\n",
      "Epoch 39/100\n",
      "64/64 [==============================] - 0s 2ms/step - loss: 0.0943 - accuracy: 0.9756 - val_loss: 0.0549 - val_accuracy: 0.9831\n",
      "Epoch 40/100\n",
      "64/64 [==============================] - 0s 2ms/step - loss: 0.0891 - accuracy: 0.9753 - val_loss: 0.0552 - val_accuracy: 0.9803\n",
      "Epoch 41/100\n",
      "64/64 [==============================] - 0s 2ms/step - loss: 0.0948 - accuracy: 0.9769 - val_loss: 0.0521 - val_accuracy: 0.9869\n",
      "Epoch 42/100\n",
      "64/64 [==============================] - 0s 2ms/step - loss: 0.0919 - accuracy: 0.9740 - val_loss: 0.0508 - val_accuracy: 0.9869\n",
      "Epoch 43/100\n",
      "64/64 [==============================] - 0s 2ms/step - loss: 0.0893 - accuracy: 0.9769 - val_loss: 0.0538 - val_accuracy: 0.9859\n",
      "Epoch 44/100\n",
      "64/64 [==============================] - 0s 2ms/step - loss: 0.0928 - accuracy: 0.9753 - val_loss: 0.0521 - val_accuracy: 0.9869\n",
      "Epoch 45/100\n",
      "64/64 [==============================] - 0s 2ms/step - loss: 0.0864 - accuracy: 0.9769 - val_loss: 0.0516 - val_accuracy: 0.9869\n",
      "Epoch 46/100\n",
      "64/64 [==============================] - 0s 2ms/step - loss: 0.0794 - accuracy: 0.9778 - val_loss: 0.0499 - val_accuracy: 0.9859\n",
      "Epoch 47/100\n",
      "64/64 [==============================] - 0s 2ms/step - loss: 0.0829 - accuracy: 0.9778 - val_loss: 0.0505 - val_accuracy: 0.9859\n",
      "Epoch 48/100\n",
      "64/64 [==============================] - 0s 2ms/step - loss: 0.0840 - accuracy: 0.9769 - val_loss: 0.0479 - val_accuracy: 0.9859\n",
      "Epoch 49/100\n",
      "64/64 [==============================] - 0s 2ms/step - loss: 0.0848 - accuracy: 0.9787 - val_loss: 0.0519 - val_accuracy: 0.9869\n",
      "Epoch 50/100\n",
      "64/64 [==============================] - 0s 2ms/step - loss: 0.0884 - accuracy: 0.9759 - val_loss: 0.0491 - val_accuracy: 0.9869\n",
      "Epoch 51/100\n",
      "64/64 [==============================] - 0s 2ms/step - loss: 0.0853 - accuracy: 0.9756 - val_loss: 0.0501 - val_accuracy: 0.9850\n",
      "Epoch 52/100\n",
      "64/64 [==============================] - 0s 2ms/step - loss: 0.0839 - accuracy: 0.9790 - val_loss: 0.0481 - val_accuracy: 0.9869\n",
      "Epoch 53/100\n",
      "64/64 [==============================] - 0s 2ms/step - loss: 0.0818 - accuracy: 0.9797 - val_loss: 0.0485 - val_accuracy: 0.9850\n",
      "Epoch 54/100\n",
      "64/64 [==============================] - 0s 2ms/step - loss: 0.0775 - accuracy: 0.9828 - val_loss: 0.0490 - val_accuracy: 0.9869\n",
      "Epoch 55/100\n",
      "64/64 [==============================] - 0s 2ms/step - loss: 0.0805 - accuracy: 0.9790 - val_loss: 0.0499 - val_accuracy: 0.9869\n",
      "Epoch 56/100\n",
      "64/64 [==============================] - 0s 2ms/step - loss: 0.0780 - accuracy: 0.9756 - val_loss: 0.0472 - val_accuracy: 0.9869\n",
      "Epoch 57/100\n",
      "64/64 [==============================] - 0s 2ms/step - loss: 0.0771 - accuracy: 0.9806 - val_loss: 0.0507 - val_accuracy: 0.9831\n",
      "Epoch 58/100\n",
      "64/64 [==============================] - 0s 2ms/step - loss: 0.0814 - accuracy: 0.9784 - val_loss: 0.0461 - val_accuracy: 0.9888\n"
     ]
    },
    {
     "name": "stdout",
     "output_type": "stream",
     "text": [
      "Epoch 59/100\n",
      "64/64 [==============================] - 0s 2ms/step - loss: 0.0748 - accuracy: 0.9809 - val_loss: 0.0454 - val_accuracy: 0.9869\n",
      "Epoch 60/100\n",
      "64/64 [==============================] - 0s 2ms/step - loss: 0.0782 - accuracy: 0.9794 - val_loss: 0.0465 - val_accuracy: 0.9869\n",
      "Epoch 61/100\n",
      "64/64 [==============================] - 0s 2ms/step - loss: 0.0830 - accuracy: 0.9775 - val_loss: 0.0452 - val_accuracy: 0.9888\n",
      "Epoch 62/100\n",
      "64/64 [==============================] - 0s 2ms/step - loss: 0.0797 - accuracy: 0.9775 - val_loss: 0.0471 - val_accuracy: 0.9869\n",
      "Epoch 63/100\n",
      "64/64 [==============================] - 0s 2ms/step - loss: 0.0747 - accuracy: 0.9797 - val_loss: 0.0458 - val_accuracy: 0.9869\n",
      "Epoch 64/100\n",
      "64/64 [==============================] - 0s 2ms/step - loss: 0.0749 - accuracy: 0.9797 - val_loss: 0.0454 - val_accuracy: 0.9878\n",
      "Epoch 65/100\n",
      "64/64 [==============================] - 0s 2ms/step - loss: 0.0860 - accuracy: 0.9769 - val_loss: 0.0452 - val_accuracy: 0.9888\n",
      "Epoch 66/100\n",
      "64/64 [==============================] - 0s 2ms/step - loss: 0.0720 - accuracy: 0.9809 - val_loss: 0.0443 - val_accuracy: 0.9888\n",
      "Epoch 67/100\n",
      "64/64 [==============================] - 0s 2ms/step - loss: 0.0702 - accuracy: 0.9809 - val_loss: 0.0447 - val_accuracy: 0.9878\n",
      "Epoch 68/100\n",
      "64/64 [==============================] - 0s 2ms/step - loss: 0.0729 - accuracy: 0.9806 - val_loss: 0.0473 - val_accuracy: 0.9869\n",
      "Epoch 69/100\n",
      "64/64 [==============================] - 0s 2ms/step - loss: 0.0771 - accuracy: 0.9803 - val_loss: 0.0451 - val_accuracy: 0.9869\n",
      "Epoch 70/100\n",
      "64/64 [==============================] - 0s 2ms/step - loss: 0.0920 - accuracy: 0.9775 - val_loss: 0.0442 - val_accuracy: 0.9878\n",
      "Epoch 71/100\n",
      "64/64 [==============================] - 0s 2ms/step - loss: 0.0741 - accuracy: 0.9803 - val_loss: 0.0444 - val_accuracy: 0.9888\n",
      "Epoch 72/100\n",
      "64/64 [==============================] - 0s 2ms/step - loss: 0.0691 - accuracy: 0.9812 - val_loss: 0.0455 - val_accuracy: 0.9869\n",
      "Epoch 73/100\n",
      "64/64 [==============================] - 0s 2ms/step - loss: 0.0745 - accuracy: 0.9784 - val_loss: 0.0433 - val_accuracy: 0.9888\n",
      "Epoch 74/100\n",
      "64/64 [==============================] - 0s 2ms/step - loss: 0.0818 - accuracy: 0.9781 - val_loss: 0.0443 - val_accuracy: 0.9869\n",
      "Epoch 75/100\n",
      "64/64 [==============================] - 0s 2ms/step - loss: 0.0728 - accuracy: 0.9819 - val_loss: 0.0443 - val_accuracy: 0.9878\n",
      "Epoch 76/100\n",
      "64/64 [==============================] - 0s 2ms/step - loss: 0.0775 - accuracy: 0.9787 - val_loss: 0.0432 - val_accuracy: 0.9888\n",
      "Epoch 77/100\n",
      "64/64 [==============================] - 0s 2ms/step - loss: 0.0797 - accuracy: 0.9781 - val_loss: 0.0436 - val_accuracy: 0.9888\n",
      "Epoch 78/100\n",
      "64/64 [==============================] - 0s 2ms/step - loss: 0.0688 - accuracy: 0.9797 - val_loss: 0.0432 - val_accuracy: 0.9878\n",
      "Epoch 79/100\n",
      "64/64 [==============================] - 0s 2ms/step - loss: 0.0704 - accuracy: 0.9812 - val_loss: 0.0418 - val_accuracy: 0.9888\n",
      "Epoch 80/100\n",
      "64/64 [==============================] - 0s 2ms/step - loss: 0.0717 - accuracy: 0.9803 - val_loss: 0.0430 - val_accuracy: 0.9897\n",
      "Epoch 81/100\n",
      "64/64 [==============================] - 0s 2ms/step - loss: 0.0726 - accuracy: 0.9797 - val_loss: 0.0414 - val_accuracy: 0.9888\n",
      "Epoch 82/100\n",
      "64/64 [==============================] - 0s 2ms/step - loss: 0.0672 - accuracy: 0.9797 - val_loss: 0.0428 - val_accuracy: 0.9897\n",
      "Epoch 83/100\n",
      "64/64 [==============================] - 0s 2ms/step - loss: 0.0802 - accuracy: 0.9797 - val_loss: 0.0429 - val_accuracy: 0.9888\n",
      "Epoch 84/100\n",
      "64/64 [==============================] - 0s 2ms/step - loss: 0.0717 - accuracy: 0.9790 - val_loss: 0.0432 - val_accuracy: 0.9906\n",
      "Epoch 85/100\n",
      "64/64 [==============================] - 0s 2ms/step - loss: 0.0728 - accuracy: 0.9800 - val_loss: 0.0424 - val_accuracy: 0.9897\n",
      "Epoch 86/100\n",
      "64/64 [==============================] - 0s 2ms/step - loss: 0.0752 - accuracy: 0.9825 - val_loss: 0.0441 - val_accuracy: 0.9869\n",
      "Epoch 87/100\n",
      "64/64 [==============================] - 0s 2ms/step - loss: 0.0683 - accuracy: 0.9806 - val_loss: 0.0417 - val_accuracy: 0.9897\n",
      "Epoch 88/100\n",
      "64/64 [==============================] - 0s 2ms/step - loss: 0.0695 - accuracy: 0.9812 - val_loss: 0.0434 - val_accuracy: 0.9906\n",
      "Epoch 89/100\n",
      "64/64 [==============================] - 0s 2ms/step - loss: 0.0744 - accuracy: 0.9803 - val_loss: 0.0439 - val_accuracy: 0.9916\n",
      "Epoch 90/100\n",
      "64/64 [==============================] - 0s 2ms/step - loss: 0.0622 - accuracy: 0.9834 - val_loss: 0.0436 - val_accuracy: 0.9906\n",
      "Epoch 91/100\n",
      "64/64 [==============================] - 0s 2ms/step - loss: 0.0713 - accuracy: 0.9809 - val_loss: 0.0418 - val_accuracy: 0.9906\n",
      "Epoch 92/100\n",
      "64/64 [==============================] - 0s 2ms/step - loss: 0.0699 - accuracy: 0.9844 - val_loss: 0.0408 - val_accuracy: 0.9897\n",
      "Epoch 93/100\n",
      "64/64 [==============================] - 0s 2ms/step - loss: 0.0675 - accuracy: 0.9837 - val_loss: 0.0411 - val_accuracy: 0.9906\n",
      "Epoch 94/100\n",
      "64/64 [==============================] - 0s 2ms/step - loss: 0.0644 - accuracy: 0.9831 - val_loss: 0.0424 - val_accuracy: 0.9897\n",
      "Epoch 95/100\n",
      "64/64 [==============================] - 0s 2ms/step - loss: 0.0741 - accuracy: 0.9762 - val_loss: 0.0406 - val_accuracy: 0.9906\n",
      "Epoch 96/100\n",
      "64/64 [==============================] - 0s 2ms/step - loss: 0.0676 - accuracy: 0.9825 - val_loss: 0.0418 - val_accuracy: 0.9916\n",
      "Epoch 97/100\n",
      "64/64 [==============================] - 0s 2ms/step - loss: 0.0703 - accuracy: 0.9812 - val_loss: 0.0423 - val_accuracy: 0.9906\n",
      "Epoch 98/100\n",
      "64/64 [==============================] - 0s 2ms/step - loss: 0.0680 - accuracy: 0.9828 - val_loss: 0.0410 - val_accuracy: 0.9906\n",
      "Epoch 99/100\n",
      "64/64 [==============================] - 0s 2ms/step - loss: 0.0638 - accuracy: 0.9837 - val_loss: 0.0407 - val_accuracy: 0.9906\n",
      "Epoch 100/100\n",
      "64/64 [==============================] - 0s 2ms/step - loss: 0.0693 - accuracy: 0.9819 - val_loss: 0.0414 - val_accuracy: 0.9906\n"
     ]
    }
   ],
   "source": [
    "model.fit(\n",
    "    X_train,\n",
    "    y_train,\n",
    "    epochs=100,\n",
    "    batch_size=50,\n",
    "    validation_data=(X_test, y_test),\n",
    "    \n",
    ")\n",
    "\n",
    "model.save(model_save_path)"
   ]
  },
  {
   "cell_type": "code",
   "execution_count": 13,
   "metadata": {
    "colab": {
     "base_uri": "https://localhost:8080/"
    },
    "id": "pxvb2Y299hE3",
    "outputId": "59eb3185-2e37-4b9e-bc9d-ab1b8ac29b7f"
   },
   "outputs": [
    {
     "name": "stdout",
     "output_type": "stream",
     "text": [
      "9/9 [==============================] - 0s 1ms/step - loss: 0.0414 - accuracy: 0.9906\n"
     ]
    }
   ],
   "source": [
    "# Model evaluation\n",
    "val_loss, val_acc = model.evaluate(X_test, y_test, batch_size=128)"
   ]
  },
  {
   "cell_type": "code",
   "execution_count": null,
   "metadata": {},
   "outputs": [],
   "source": []
  }
 ],
 "metadata": {
  "accelerator": "GPU",
  "colab": {
   "collapsed_sections": [],
   "name": "keypoint_classification_EN.ipynb",
   "provenance": [],
   "toc_visible": true
  },
  "kernelspec": {
   "display_name": "Python 3 (ipykernel)",
   "language": "python",
   "name": "python3"
  },
  "language_info": {
   "codemirror_mode": {
    "name": "ipython",
    "version": 3
   },
   "file_extension": ".py",
   "mimetype": "text/x-python",
   "name": "python",
   "nbconvert_exporter": "python",
   "pygments_lexer": "ipython3",
   "version": "3.9.7"
  }
 },
 "nbformat": 4,
 "nbformat_minor": 1
}
