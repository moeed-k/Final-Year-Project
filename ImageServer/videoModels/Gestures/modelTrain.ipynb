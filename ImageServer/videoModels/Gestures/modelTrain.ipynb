{
 "cells": [
  {
   "cell_type": "code",
   "execution_count": 1,
   "metadata": {
    "id": "igMyGnjE9hEp",
    "scrolled": true
   },
   "outputs": [],
   "source": [
    "import csv\n",
    "\n",
    "import numpy as np\n",
    "import tensorflow as tf\n",
    "from sklearn.model_selection import train_test_split\n",
    "\n",
    "RANDOM_SEED = 42"
   ]
  },
  {
   "cell_type": "markdown",
   "metadata": {
    "id": "t2HDvhIu9hEr"
   },
   "source": [
    "# Specify each path"
   ]
  },
  {
   "cell_type": "code",
   "execution_count": 2,
   "metadata": {
    "id": "9NvZP2Zn9hEy"
   },
   "outputs": [],
   "source": [
    "dataset = './dataset/dataset.csv'\n",
    "model_save_path = './gesture_classifier.hdf5'\n",
    "label_path = './dataset/labels.txt'"
   ]
  },
  {
   "cell_type": "markdown",
   "metadata": {
    "id": "s5oMH7x19hEz"
   },
   "source": [
    "# Set number of classes"
   ]
  },
  {
   "cell_type": "code",
   "execution_count": 3,
   "metadata": {
    "id": "du4kodXL9hEz"
   },
   "outputs": [
    {
     "name": "stdout",
     "output_type": "stream",
     "text": [
      "6\n"
     ]
    }
   ],
   "source": [
    "labels = []\n",
    "with open(label_path) as file:\n",
    "    for line in file:\n",
    "        labels.append(line.rstrip())\n",
    "NUM_CLASSES = len(labels)\n",
    "print(NUM_CLASSES)"
   ]
  },
  {
   "cell_type": "code",
   "execution_count": 4,
   "metadata": {},
   "outputs": [],
   "source": [
    "import pandas as pd\n",
    "df=pd.read_csv(dataset,header=None)\n",
    "from sklearn.utils import shuffle\n",
    "df = shuffle(df)\n",
    "df.head()\n",
    "\n",
    "y_dataset = df.iloc[: , -1:]\n",
    "X_dataset=df.iloc[: , :-1]\n",
    "\n"
   ]
  },
  {
   "cell_type": "markdown",
   "metadata": {
    "id": "XjnL0uso9hEz"
   },
   "source": [
    "# Dataset reading"
   ]
  },
  {
   "cell_type": "code",
   "execution_count": 5,
   "metadata": {
    "id": "xQU7JTZ_9hE0"
   },
   "outputs": [],
   "source": [
    "X_train, X_test, y_train, y_test = train_test_split(X_dataset, y_dataset, train_size=0.75, random_state=RANDOM_SEED)"
   ]
  },
  {
   "cell_type": "markdown",
   "metadata": {
    "id": "mxK_lETT9hE0"
   },
   "source": [
    "# Model building"
   ]
  },
  {
   "cell_type": "code",
   "execution_count": 6,
   "metadata": {},
   "outputs": [
    {
     "name": "stdout",
     "output_type": "stream",
     "text": [
      "84\n"
     ]
    }
   ],
   "source": [
    "print(len(X_test.iloc[0]))"
   ]
  },
  {
   "cell_type": "code",
   "execution_count": 7,
   "metadata": {
    "id": "vHBmUf1t9hE1"
   },
   "outputs": [],
   "source": [
    "model = tf.keras.models.Sequential([\n",
    "    tf.keras.layers.Input((84, )), #Input layer of size 84 using 84 landmarks\n",
    "    tf.keras.layers.Dropout(0.2),  #Regularization\n",
    "    tf.keras.layers.Dense(40, activation='relu'), #1st Hidden Layer\n",
    "    tf.keras.layers.Dropout(0.4),                 #Regularization\n",
    "    tf.keras.layers.Dense(20, activation='relu'), #2nd Hidden Layer\n",
    "    tf.keras.layers.Dense(NUM_CLASSES, activation='softmax') #Output layer\n",
    "])"
   ]
  },
  {
   "cell_type": "code",
   "execution_count": 8,
   "metadata": {
    "colab": {
     "base_uri": "https://localhost:8080/"
    },
    "id": "ypqky9tc9hE1",
    "outputId": "5db082bb-30e3-4110-bf63-a1ee777ecd46"
   },
   "outputs": [
    {
     "name": "stdout",
     "output_type": "stream",
     "text": [
      "Model: \"sequential\"\n",
      "_________________________________________________________________\n",
      " Layer (type)                Output Shape              Param #   \n",
      "=================================================================\n",
      " dropout (Dropout)           (None, 84)                0         \n",
      "                                                                 \n",
      " dense (Dense)               (None, 40)                3400      \n",
      "                                                                 \n",
      " dropout_1 (Dropout)         (None, 40)                0         \n",
      "                                                                 \n",
      " dense_1 (Dense)             (None, 20)                820       \n",
      "                                                                 \n",
      " dense_2 (Dense)             (None, 6)                 126       \n",
      "                                                                 \n",
      "=================================================================\n",
      "Total params: 4,346\n",
      "Trainable params: 4,346\n",
      "Non-trainable params: 0\n",
      "_________________________________________________________________\n"
     ]
    }
   ],
   "source": [
    "model.summary() "
   ]
  },
  {
   "cell_type": "code",
   "execution_count": 9,
   "metadata": {
    "id": "c3Dac0M_9hE2"
   },
   "outputs": [],
   "source": [
    "# Model compilation\n",
    "model.compile(\n",
    "    optimizer='adam',\n",
    "    loss='sparse_categorical_crossentropy', #Lables are not one-hot encoded so using sparse CEL\n",
    "    metrics=['accuracy']\n",
    ")"
   ]
  },
  {
   "cell_type": "markdown",
   "metadata": {
    "id": "7XI0j1Iu9hE2"
   },
   "source": [
    "# Model training"
   ]
  },
  {
   "cell_type": "code",
   "execution_count": 10,
   "metadata": {
    "colab": {
     "base_uri": "https://localhost:8080/"
    },
    "id": "WirBl-JE9hE3",
    "outputId": "71b30ca2-8294-4d9d-8aa2-800d90d399de",
    "scrolled": true
   },
   "outputs": [
    {
     "name": "stdout",
     "output_type": "stream",
     "text": [
      "Epoch 1/100\n",
      "67/67 [==============================] - 1s 3ms/step - loss: 1.4911 - accuracy: 0.3807 - val_loss: 1.1738 - val_accuracy: 0.5571\n",
      "Epoch 2/100\n",
      "67/67 [==============================] - 0s 1ms/step - loss: 1.0672 - accuracy: 0.6577 - val_loss: 0.8483 - val_accuracy: 0.8297\n",
      "Epoch 3/100\n",
      "67/67 [==============================] - 0s 2ms/step - loss: 0.7243 - accuracy: 0.8320 - val_loss: 0.4792 - val_accuracy: 0.8623\n",
      "Epoch 4/100\n",
      "67/67 [==============================] - 0s 1ms/step - loss: 0.4823 - accuracy: 0.8668 - val_loss: 0.3232 - val_accuracy: 0.9031\n",
      "Epoch 5/100\n",
      "67/67 [==============================] - 0s 1ms/step - loss: 0.3766 - accuracy: 0.8837 - val_loss: 0.2602 - val_accuracy: 0.9085\n",
      "Epoch 6/100\n",
      "67/67 [==============================] - 0s 2ms/step - loss: 0.3173 - accuracy: 0.9036 - val_loss: 0.2116 - val_accuracy: 0.9112\n",
      "Epoch 7/100\n",
      "67/67 [==============================] - 0s 2ms/step - loss: 0.2821 - accuracy: 0.9154 - val_loss: 0.1898 - val_accuracy: 0.9257\n",
      "Epoch 8/100\n",
      "67/67 [==============================] - 0s 2ms/step - loss: 0.2472 - accuracy: 0.9254 - val_loss: 0.1666 - val_accuracy: 0.9601\n",
      "Epoch 9/100\n",
      "67/67 [==============================] - 0s 2ms/step - loss: 0.2335 - accuracy: 0.9257 - val_loss: 0.1552 - val_accuracy: 0.9601\n",
      "Epoch 10/100\n",
      "67/67 [==============================] - 0s 2ms/step - loss: 0.2064 - accuracy: 0.9320 - val_loss: 0.1383 - val_accuracy: 0.9665\n",
      "Epoch 11/100\n",
      "67/67 [==============================] - 0s 2ms/step - loss: 0.1958 - accuracy: 0.9414 - val_loss: 0.1275 - val_accuracy: 0.9692\n",
      "Epoch 12/100\n",
      "67/67 [==============================] - 0s 1ms/step - loss: 0.1747 - accuracy: 0.9483 - val_loss: 0.1150 - val_accuracy: 0.9746\n",
      "Epoch 13/100\n",
      "67/67 [==============================] - 0s 2ms/step - loss: 0.1819 - accuracy: 0.9444 - val_loss: 0.1092 - val_accuracy: 0.9728\n",
      "Epoch 14/100\n",
      "67/67 [==============================] - 0s 2ms/step - loss: 0.1707 - accuracy: 0.9447 - val_loss: 0.1100 - val_accuracy: 0.9719\n",
      "Epoch 15/100\n",
      "67/67 [==============================] - 0s 2ms/step - loss: 0.1609 - accuracy: 0.9492 - val_loss: 0.1007 - val_accuracy: 0.9746\n",
      "Epoch 16/100\n",
      "67/67 [==============================] - 0s 2ms/step - loss: 0.1481 - accuracy: 0.9526 - val_loss: 0.0955 - val_accuracy: 0.9783\n",
      "Epoch 17/100\n",
      "67/67 [==============================] - 0s 1ms/step - loss: 0.1339 - accuracy: 0.9538 - val_loss: 0.0943 - val_accuracy: 0.9755\n",
      "Epoch 18/100\n",
      "67/67 [==============================] - 0s 1ms/step - loss: 0.1515 - accuracy: 0.9489 - val_loss: 0.0859 - val_accuracy: 0.9792\n",
      "Epoch 19/100\n",
      "67/67 [==============================] - 0s 1ms/step - loss: 0.1366 - accuracy: 0.9565 - val_loss: 0.0837 - val_accuracy: 0.9792\n",
      "Epoch 20/100\n",
      "67/67 [==============================] - 0s 1ms/step - loss: 0.1213 - accuracy: 0.9653 - val_loss: 0.0828 - val_accuracy: 0.9792\n",
      "Epoch 21/100\n",
      "67/67 [==============================] - 0s 2ms/step - loss: 0.1236 - accuracy: 0.9592 - val_loss: 0.0788 - val_accuracy: 0.9819\n",
      "Epoch 22/100\n",
      "67/67 [==============================] - 0s 2ms/step - loss: 0.1259 - accuracy: 0.9589 - val_loss: 0.0766 - val_accuracy: 0.9819\n",
      "Epoch 23/100\n",
      "67/67 [==============================] - 0s 1ms/step - loss: 0.1184 - accuracy: 0.9622 - val_loss: 0.0730 - val_accuracy: 0.9837\n",
      "Epoch 24/100\n",
      "67/67 [==============================] - 0s 2ms/step - loss: 0.1153 - accuracy: 0.9616 - val_loss: 0.0731 - val_accuracy: 0.9828\n",
      "Epoch 25/100\n",
      "67/67 [==============================] - 0s 2ms/step - loss: 0.1185 - accuracy: 0.9601 - val_loss: 0.0739 - val_accuracy: 0.9846\n",
      "Epoch 26/100\n",
      "67/67 [==============================] - 0s 2ms/step - loss: 0.1155 - accuracy: 0.9616 - val_loss: 0.0702 - val_accuracy: 0.9846\n",
      "Epoch 27/100\n",
      "67/67 [==============================] - 0s 2ms/step - loss: 0.1085 - accuracy: 0.9647 - val_loss: 0.0672 - val_accuracy: 0.9837\n",
      "Epoch 28/100\n",
      "67/67 [==============================] - 0s 1ms/step - loss: 0.1094 - accuracy: 0.9631 - val_loss: 0.0683 - val_accuracy: 0.9837\n",
      "Epoch 29/100\n",
      "67/67 [==============================] - 0s 2ms/step - loss: 0.1099 - accuracy: 0.9628 - val_loss: 0.0710 - val_accuracy: 0.9846\n",
      "Epoch 30/100\n",
      "67/67 [==============================] - 0s 1ms/step - loss: 0.1070 - accuracy: 0.9637 - val_loss: 0.0638 - val_accuracy: 0.9846\n",
      "Epoch 31/100\n",
      "67/67 [==============================] - 0s 2ms/step - loss: 0.1059 - accuracy: 0.9665 - val_loss: 0.0654 - val_accuracy: 0.9846\n",
      "Epoch 32/100\n",
      "67/67 [==============================] - 0s 2ms/step - loss: 0.0947 - accuracy: 0.9722 - val_loss: 0.0643 - val_accuracy: 0.9837\n",
      "Epoch 33/100\n",
      "67/67 [==============================] - 0s 2ms/step - loss: 0.1020 - accuracy: 0.9644 - val_loss: 0.0647 - val_accuracy: 0.9837\n",
      "Epoch 34/100\n",
      "67/67 [==============================] - 0s 2ms/step - loss: 0.1035 - accuracy: 0.9677 - val_loss: 0.0662 - val_accuracy: 0.9837\n",
      "Epoch 35/100\n",
      "67/67 [==============================] - 0s 2ms/step - loss: 0.0960 - accuracy: 0.9674 - val_loss: 0.0655 - val_accuracy: 0.9864\n",
      "Epoch 36/100\n",
      "67/67 [==============================] - 0s 1ms/step - loss: 0.1026 - accuracy: 0.9656 - val_loss: 0.0619 - val_accuracy: 0.9855\n",
      "Epoch 37/100\n",
      "67/67 [==============================] - 0s 2ms/step - loss: 0.0976 - accuracy: 0.9680 - val_loss: 0.0635 - val_accuracy: 0.9837\n",
      "Epoch 38/100\n",
      "67/67 [==============================] - 0s 2ms/step - loss: 0.0918 - accuracy: 0.9695 - val_loss: 0.0617 - val_accuracy: 0.9855\n",
      "Epoch 39/100\n",
      "67/67 [==============================] - 0s 2ms/step - loss: 0.0928 - accuracy: 0.9671 - val_loss: 0.0609 - val_accuracy: 0.9837\n",
      "Epoch 40/100\n",
      "67/67 [==============================] - 0s 1ms/step - loss: 0.0956 - accuracy: 0.9674 - val_loss: 0.0609 - val_accuracy: 0.9855\n",
      "Epoch 41/100\n",
      "67/67 [==============================] - 0s 2ms/step - loss: 0.0947 - accuracy: 0.9644 - val_loss: 0.0607 - val_accuracy: 0.9837\n",
      "Epoch 42/100\n",
      "67/67 [==============================] - 0s 2ms/step - loss: 0.0944 - accuracy: 0.9680 - val_loss: 0.0653 - val_accuracy: 0.9819\n",
      "Epoch 43/100\n",
      "67/67 [==============================] - 0s 2ms/step - loss: 0.0852 - accuracy: 0.9716 - val_loss: 0.0616 - val_accuracy: 0.9846\n",
      "Epoch 44/100\n",
      "67/67 [==============================] - 0s 2ms/step - loss: 0.0800 - accuracy: 0.9746 - val_loss: 0.0603 - val_accuracy: 0.9855\n",
      "Epoch 45/100\n",
      "67/67 [==============================] - 0s 2ms/step - loss: 0.0869 - accuracy: 0.9671 - val_loss: 0.0614 - val_accuracy: 0.9855\n",
      "Epoch 46/100\n",
      "67/67 [==============================] - 0s 1ms/step - loss: 0.0821 - accuracy: 0.9701 - val_loss: 0.0613 - val_accuracy: 0.9846\n",
      "Epoch 47/100\n",
      "67/67 [==============================] - 0s 2ms/step - loss: 0.0874 - accuracy: 0.9668 - val_loss: 0.0599 - val_accuracy: 0.9855\n",
      "Epoch 48/100\n",
      "67/67 [==============================] - 0s 2ms/step - loss: 0.0914 - accuracy: 0.9689 - val_loss: 0.0578 - val_accuracy: 0.9855\n",
      "Epoch 49/100\n",
      "67/67 [==============================] - 0s 2ms/step - loss: 0.0801 - accuracy: 0.9713 - val_loss: 0.0581 - val_accuracy: 0.9846\n",
      "Epoch 50/100\n",
      "67/67 [==============================] - 0s 2ms/step - loss: 0.0799 - accuracy: 0.9740 - val_loss: 0.0565 - val_accuracy: 0.9846\n",
      "Epoch 51/100\n",
      "67/67 [==============================] - 0s 2ms/step - loss: 0.0883 - accuracy: 0.9716 - val_loss: 0.0607 - val_accuracy: 0.9855\n",
      "Epoch 52/100\n",
      "67/67 [==============================] - 0s 1ms/step - loss: 0.0915 - accuracy: 0.9674 - val_loss: 0.0579 - val_accuracy: 0.9846\n",
      "Epoch 53/100\n",
      "67/67 [==============================] - 0s 2ms/step - loss: 0.0778 - accuracy: 0.9722 - val_loss: 0.0588 - val_accuracy: 0.9846\n",
      "Epoch 54/100\n",
      "67/67 [==============================] - 0s 2ms/step - loss: 0.0859 - accuracy: 0.9731 - val_loss: 0.0589 - val_accuracy: 0.9837\n",
      "Epoch 55/100\n",
      "67/67 [==============================] - 0s 2ms/step - loss: 0.0819 - accuracy: 0.9722 - val_loss: 0.0604 - val_accuracy: 0.9855\n",
      "Epoch 56/100\n",
      "67/67 [==============================] - 0s 2ms/step - loss: 0.0860 - accuracy: 0.9701 - val_loss: 0.0610 - val_accuracy: 0.9864\n",
      "Epoch 57/100\n",
      "67/67 [==============================] - 0s 2ms/step - loss: 0.0725 - accuracy: 0.9755 - val_loss: 0.0555 - val_accuracy: 0.9864\n",
      "Epoch 58/100\n",
      "67/67 [==============================] - 0s 2ms/step - loss: 0.0764 - accuracy: 0.9755 - val_loss: 0.0553 - val_accuracy: 0.9846\n"
     ]
    },
    {
     "name": "stdout",
     "output_type": "stream",
     "text": [
      "Epoch 59/100\n",
      "67/67 [==============================] - 0s 2ms/step - loss: 0.0814 - accuracy: 0.9740 - val_loss: 0.0597 - val_accuracy: 0.9855\n",
      "Epoch 60/100\n",
      "67/67 [==============================] - 0s 1ms/step - loss: 0.0780 - accuracy: 0.9731 - val_loss: 0.0591 - val_accuracy: 0.9855\n",
      "Epoch 61/100\n",
      "67/67 [==============================] - 0s 1ms/step - loss: 0.0841 - accuracy: 0.9722 - val_loss: 0.0569 - val_accuracy: 0.9846\n",
      "Epoch 62/100\n",
      "67/67 [==============================] - 0s 1ms/step - loss: 0.0764 - accuracy: 0.9728 - val_loss: 0.0572 - val_accuracy: 0.9846\n",
      "Epoch 63/100\n",
      "67/67 [==============================] - 0s 2ms/step - loss: 0.0751 - accuracy: 0.9728 - val_loss: 0.0561 - val_accuracy: 0.9837\n",
      "Epoch 64/100\n",
      "67/67 [==============================] - 0s 2ms/step - loss: 0.0726 - accuracy: 0.9749 - val_loss: 0.0569 - val_accuracy: 0.9837\n",
      "Epoch 65/100\n",
      "67/67 [==============================] - 0s 2ms/step - loss: 0.0741 - accuracy: 0.9743 - val_loss: 0.0543 - val_accuracy: 0.9846\n",
      "Epoch 66/100\n",
      "67/67 [==============================] - 0s 1ms/step - loss: 0.0725 - accuracy: 0.9758 - val_loss: 0.0548 - val_accuracy: 0.9855\n",
      "Epoch 67/100\n",
      "67/67 [==============================] - 0s 1ms/step - loss: 0.0791 - accuracy: 0.9731 - val_loss: 0.0526 - val_accuracy: 0.9846\n",
      "Epoch 68/100\n",
      "67/67 [==============================] - 0s 1ms/step - loss: 0.0754 - accuracy: 0.9752 - val_loss: 0.0549 - val_accuracy: 0.9846\n",
      "Epoch 69/100\n",
      "67/67 [==============================] - 0s 2ms/step - loss: 0.0693 - accuracy: 0.9755 - val_loss: 0.0556 - val_accuracy: 0.9846\n",
      "Epoch 70/100\n",
      "67/67 [==============================] - 0s 1ms/step - loss: 0.0722 - accuracy: 0.9749 - val_loss: 0.0569 - val_accuracy: 0.9846\n",
      "Epoch 71/100\n",
      "67/67 [==============================] - 0s 2ms/step - loss: 0.0763 - accuracy: 0.9704 - val_loss: 0.0552 - val_accuracy: 0.9846\n",
      "Epoch 72/100\n",
      "67/67 [==============================] - 0s 1ms/step - loss: 0.0763 - accuracy: 0.9701 - val_loss: 0.0545 - val_accuracy: 0.9837\n",
      "Epoch 73/100\n",
      "67/67 [==============================] - 0s 2ms/step - loss: 0.0784 - accuracy: 0.9740 - val_loss: 0.0566 - val_accuracy: 0.9846\n",
      "Epoch 74/100\n",
      "67/67 [==============================] - 0s 2ms/step - loss: 0.0687 - accuracy: 0.9770 - val_loss: 0.0541 - val_accuracy: 0.9846\n",
      "Epoch 75/100\n",
      "67/67 [==============================] - 0s 2ms/step - loss: 0.0793 - accuracy: 0.9704 - val_loss: 0.0573 - val_accuracy: 0.9837\n",
      "Epoch 76/100\n",
      "67/67 [==============================] - 0s 1ms/step - loss: 0.0720 - accuracy: 0.9785 - val_loss: 0.0550 - val_accuracy: 0.9837\n",
      "Epoch 77/100\n",
      "67/67 [==============================] - 0s 2ms/step - loss: 0.0658 - accuracy: 0.9785 - val_loss: 0.0536 - val_accuracy: 0.9846\n",
      "Epoch 78/100\n",
      "67/67 [==============================] - 0s 2ms/step - loss: 0.0774 - accuracy: 0.9716 - val_loss: 0.0554 - val_accuracy: 0.9837\n",
      "Epoch 79/100\n",
      "67/67 [==============================] - 0s 2ms/step - loss: 0.0699 - accuracy: 0.9752 - val_loss: 0.0544 - val_accuracy: 0.9837\n",
      "Epoch 80/100\n",
      "67/67 [==============================] - 0s 1ms/step - loss: 0.0651 - accuracy: 0.9770 - val_loss: 0.0530 - val_accuracy: 0.9855\n",
      "Epoch 81/100\n",
      "67/67 [==============================] - 0s 2ms/step - loss: 0.0717 - accuracy: 0.9785 - val_loss: 0.0515 - val_accuracy: 0.9855\n",
      "Epoch 82/100\n",
      "67/67 [==============================] - 0s 2ms/step - loss: 0.0653 - accuracy: 0.9767 - val_loss: 0.0542 - val_accuracy: 0.9846\n",
      "Epoch 83/100\n",
      "67/67 [==============================] - 0s 2ms/step - loss: 0.0665 - accuracy: 0.9773 - val_loss: 0.0538 - val_accuracy: 0.9837\n",
      "Epoch 84/100\n",
      "67/67 [==============================] - 0s 1ms/step - loss: 0.0754 - accuracy: 0.9743 - val_loss: 0.0508 - val_accuracy: 0.9846\n",
      "Epoch 85/100\n",
      "67/67 [==============================] - 0s 1ms/step - loss: 0.0648 - accuracy: 0.9798 - val_loss: 0.0523 - val_accuracy: 0.9846\n",
      "Epoch 86/100\n",
      "67/67 [==============================] - 0s 2ms/step - loss: 0.0634 - accuracy: 0.9776 - val_loss: 0.0539 - val_accuracy: 0.9837\n",
      "Epoch 87/100\n",
      "67/67 [==============================] - 0s 2ms/step - loss: 0.0788 - accuracy: 0.9737 - val_loss: 0.0509 - val_accuracy: 0.9855\n",
      "Epoch 88/100\n",
      "67/67 [==============================] - 0s 2ms/step - loss: 0.0614 - accuracy: 0.9798 - val_loss: 0.0525 - val_accuracy: 0.9837\n",
      "Epoch 89/100\n",
      "67/67 [==============================] - 0s 2ms/step - loss: 0.0707 - accuracy: 0.9746 - val_loss: 0.0529 - val_accuracy: 0.9846\n",
      "Epoch 90/100\n",
      "67/67 [==============================] - 0s 2ms/step - loss: 0.0680 - accuracy: 0.9782 - val_loss: 0.0524 - val_accuracy: 0.9855\n",
      "Epoch 91/100\n",
      "67/67 [==============================] - 0s 2ms/step - loss: 0.0592 - accuracy: 0.9767 - val_loss: 0.0532 - val_accuracy: 0.9837\n",
      "Epoch 92/100\n",
      "67/67 [==============================] - 0s 1ms/step - loss: 0.0667 - accuracy: 0.9792 - val_loss: 0.0535 - val_accuracy: 0.9855\n",
      "Epoch 93/100\n",
      "67/67 [==============================] - 0s 2ms/step - loss: 0.0765 - accuracy: 0.9731 - val_loss: 0.0532 - val_accuracy: 0.9837\n",
      "Epoch 94/100\n",
      "67/67 [==============================] - 0s 2ms/step - loss: 0.0711 - accuracy: 0.9755 - val_loss: 0.0530 - val_accuracy: 0.9846\n",
      "Epoch 95/100\n",
      "67/67 [==============================] - 0s 2ms/step - loss: 0.0714 - accuracy: 0.9749 - val_loss: 0.0521 - val_accuracy: 0.9846\n",
      "Epoch 96/100\n",
      "67/67 [==============================] - 0s 2ms/step - loss: 0.0630 - accuracy: 0.9782 - val_loss: 0.0492 - val_accuracy: 0.9855\n",
      "Epoch 97/100\n",
      "67/67 [==============================] - 0s 2ms/step - loss: 0.0657 - accuracy: 0.9758 - val_loss: 0.0530 - val_accuracy: 0.9846\n",
      "Epoch 98/100\n",
      "67/67 [==============================] - 0s 2ms/step - loss: 0.0621 - accuracy: 0.9770 - val_loss: 0.0532 - val_accuracy: 0.9846\n",
      "Epoch 99/100\n",
      "67/67 [==============================] - 0s 2ms/step - loss: 0.0662 - accuracy: 0.9764 - val_loss: 0.0523 - val_accuracy: 0.9855\n",
      "Epoch 100/100\n",
      "67/67 [==============================] - 0s 1ms/step - loss: 0.0630 - accuracy: 0.9770 - val_loss: 0.0563 - val_accuracy: 0.9837\n"
     ]
    }
   ],
   "source": [
    "model.fit(\n",
    "    X_train,\n",
    "    y_train,\n",
    "    epochs=100,\n",
    "    batch_size=50,\n",
    "    validation_data=(X_test, y_test),\n",
    "    \n",
    ")\n",
    "\n",
    "model.save(model_save_path)"
   ]
  },
  {
   "cell_type": "markdown",
   "metadata": {},
   "source": [
    "# Model Evaluation"
   ]
  },
  {
   "cell_type": "code",
   "execution_count": 11,
   "metadata": {
    "colab": {
     "base_uri": "https://localhost:8080/"
    },
    "id": "pxvb2Y299hE3",
    "outputId": "59eb3185-2e37-4b9e-bc9d-ab1b8ac29b7f"
   },
   "outputs": [
    {
     "name": "stdout",
     "output_type": "stream",
     "text": [
      "9/9 [==============================] - 0s 874us/step - loss: 0.0563 - accuracy: 0.9837\n"
     ]
    }
   ],
   "source": [
    "\n",
    "val_loss, val_acc = model.evaluate(X_test, y_test, batch_size=128)"
   ]
  }
 ],
 "metadata": {
  "accelerator": "GPU",
  "colab": {
   "collapsed_sections": [],
   "name": "keypoint_classification_EN.ipynb",
   "provenance": [],
   "toc_visible": true
  },
  "kernelspec": {
   "display_name": "Python 3 (ipykernel)",
   "language": "python",
   "name": "python3"
  },
  "language_info": {
   "codemirror_mode": {
    "name": "ipython",
    "version": 3
   },
   "file_extension": ".py",
   "mimetype": "text/x-python",
   "name": "python",
   "nbconvert_exporter": "python",
   "pygments_lexer": "ipython3",
   "version": "3.9.13"
  }
 },
 "nbformat": 4,
 "nbformat_minor": 1
}
